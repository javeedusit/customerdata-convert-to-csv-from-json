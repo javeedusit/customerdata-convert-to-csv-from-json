{
 "cells": [
  {
   "cell_type": "code",
   "execution_count": 21,
   "metadata": {},
   "outputs": [],
   "source": [
    "#Parsing of file\n",
    "#import the libraries to import the file and convert the file to dataframe\n",
    "import pandas as pd\n",
    "import numpy as np\n",
    "import matplotlib.pylab as plt\n",
    "import seaborn as sns\n",
    "import os\n",
    "import os\n",
    "import ast\n",
    "import numpy as np"
   ]
  },
  {
   "cell_type": "code",
   "execution_count": 22,
   "metadata": {},
   "outputs": [],
   "source": [
    "df = pd.read_csv(\"D:\\summit minds\\\\customersdata.csv\")"
   ]
  },
  {
   "cell_type": "code",
   "execution_count": 24,
   "metadata": {},
   "outputs": [
    {
     "data": {
      "text/plain": [
       "fraudulent                                          538\n",
       "customer__customerEmail                             538\n",
       "customer__customerPhone                             538\n",
       "customer__customerDevice                            538\n",
       "customer__customerIPAddress                         538\n",
       "customer__customerBillingAddress                    538\n",
       "orders__orderId                                     228\n",
       "orders__orderAmount                                 228\n",
       "orders__orderState                                  228\n",
       "orders__orderShippingAddress                        228\n",
       "paymentMethods__paymentMethodId                     364\n",
       "paymentMethods__paymentMethodRegistrationFailure    364\n",
       "paymentMethods__paymentMethodType                   364\n",
       "paymentMethods__paymentMethodProvider               364\n",
       "paymentMethods__paymentMethodIssuer                 364\n",
       "transactions__transactionId                          83\n",
       "transactions__orderId                                83\n",
       "transactions__paymentMethodId                        83\n",
       "transactions__transactionAmount                      83\n",
       "transactions__transactionFailed                      83\n",
       "dtype: int64"
      ]
     },
     "execution_count": 24,
     "metadata": {},
     "output_type": "execute_result"
    }
   ],
   "source": [
    "df.isnull().sum()"
   ]
  },
  {
   "cell_type": "code",
   "execution_count": 25,
   "metadata": {},
   "outputs": [],
   "source": [
    "df.dropna(inplace=True) "
   ]
  },
  {
   "cell_type": "code",
   "execution_count": 26,
   "metadata": {},
   "outputs": [
    {
     "data": {
      "text/plain": [
       "fraudulent                                          0\n",
       "customer__customerEmail                             0\n",
       "customer__customerPhone                             0\n",
       "customer__customerDevice                            0\n",
       "customer__customerIPAddress                         0\n",
       "customer__customerBillingAddress                    0\n",
       "orders__orderId                                     0\n",
       "orders__orderAmount                                 0\n",
       "orders__orderState                                  0\n",
       "orders__orderShippingAddress                        0\n",
       "paymentMethods__paymentMethodId                     0\n",
       "paymentMethods__paymentMethodRegistrationFailure    0\n",
       "paymentMethods__paymentMethodType                   0\n",
       "paymentMethods__paymentMethodProvider               0\n",
       "paymentMethods__paymentMethodIssuer                 0\n",
       "transactions__transactionId                         0\n",
       "transactions__orderId                               0\n",
       "transactions__paymentMethodId                       0\n",
       "transactions__transactionAmount                     0\n",
       "transactions__transactionFailed                     0\n",
       "dtype: int64"
      ]
     },
     "execution_count": 26,
     "metadata": {},
     "output_type": "execute_result"
    }
   ],
   "source": [
    "df.isnull().sum()"
   ]
  },
  {
   "cell_type": "code",
   "execution_count": 30,
   "metadata": {},
   "outputs": [
    {
     "data": {
      "text/plain": [
       "Index(['fraudulent', 'customer__customerEmail', 'customer__customerPhone',\n",
       "       'customer__customerDevice', 'customer__customerIPAddress',\n",
       "       'customer__customerBillingAddress', 'orders__orderId',\n",
       "       'orders__orderAmount', 'orders__orderState',\n",
       "       'orders__orderShippingAddress', 'paymentMethods__paymentMethodId',\n",
       "       'paymentMethods__paymentMethodRegistrationFailure',\n",
       "       'paymentMethods__paymentMethodType',\n",
       "       'paymentMethods__paymentMethodProvider',\n",
       "       'paymentMethods__paymentMethodIssuer', 'transactions__transactionId',\n",
       "       'transactions__orderId', 'transactions__paymentMethodId',\n",
       "       'transactions__transactionAmount', 'transactions__transactionFailed'],\n",
       "      dtype='object')"
      ]
     },
     "execution_count": 30,
     "metadata": {},
     "output_type": "execute_result"
    }
   ],
   "source": [
    "df.columns"
   ]
  },
  {
   "cell_type": "code",
   "execution_count": 28,
   "metadata": {},
   "outputs": [
    {
     "data": {
      "text/html": [
       "<div>\n",
       "<style scoped>\n",
       "    .dataframe tbody tr th:only-of-type {\n",
       "        vertical-align: middle;\n",
       "    }\n",
       "\n",
       "    .dataframe tbody tr th {\n",
       "        vertical-align: top;\n",
       "    }\n",
       "\n",
       "    .dataframe thead th {\n",
       "        text-align: right;\n",
       "    }\n",
       "</style>\n",
       "<table border=\"1\" class=\"dataframe\">\n",
       "  <thead>\n",
       "    <tr style=\"text-align: right;\">\n",
       "      <th></th>\n",
       "      <th>fraudulent</th>\n",
       "      <th>customer__customerEmail</th>\n",
       "      <th>customer__customerPhone</th>\n",
       "      <th>customer__customerDevice</th>\n",
       "      <th>customer__customerIPAddress</th>\n",
       "      <th>customer__customerBillingAddress</th>\n",
       "      <th>orders__orderId</th>\n",
       "      <th>orders__orderAmount</th>\n",
       "      <th>orders__orderState</th>\n",
       "      <th>orders__orderShippingAddress</th>\n",
       "      <th>paymentMethods__paymentMethodId</th>\n",
       "      <th>paymentMethods__paymentMethodRegistrationFailure</th>\n",
       "      <th>paymentMethods__paymentMethodType</th>\n",
       "      <th>paymentMethods__paymentMethodProvider</th>\n",
       "      <th>paymentMethods__paymentMethodIssuer</th>\n",
       "      <th>transactions__transactionId</th>\n",
       "      <th>transactions__orderId</th>\n",
       "      <th>transactions__paymentMethodId</th>\n",
       "      <th>transactions__transactionAmount</th>\n",
       "      <th>transactions__transactionFailed</th>\n",
       "    </tr>\n",
       "  </thead>\n",
       "  <tbody>\n",
       "    <tr>\n",
       "      <th>0</th>\n",
       "      <td>False</td>\n",
       "      <td>josephhoward@yahoo.com</td>\n",
       "      <td>400-108-5415</td>\n",
       "      <td>yyeiaxpltf82440jnb3v</td>\n",
       "      <td>8.129.104.40</td>\n",
       "      <td>5493 Jones Islands\\nBrownside, CA 51896</td>\n",
       "      <td>vjbdvd</td>\n",
       "      <td>18.0</td>\n",
       "      <td>pending</td>\n",
       "      <td>5493 Jones Islands\\nBrownside, CA 51896</td>\n",
       "      <td>wt07xm68b</td>\n",
       "      <td>True</td>\n",
       "      <td>card</td>\n",
       "      <td>JCB 16 digit</td>\n",
       "      <td>Citizens First Banks</td>\n",
       "      <td>a9lcj51r</td>\n",
       "      <td>vjbdvd</td>\n",
       "      <td>wt07xm68b</td>\n",
       "      <td>18.0</td>\n",
       "      <td>False</td>\n",
       "    </tr>\n",
       "    <tr>\n",
       "      <th>2</th>\n",
       "      <td>True</td>\n",
       "      <td>evansjeffery@yahoo.com</td>\n",
       "      <td>1-788-091-7546</td>\n",
       "      <td>r0jpm7xaeqqa3kr6mzum</td>\n",
       "      <td>219.173.211.202</td>\n",
       "      <td>356 Elizabeth Inlet Suite 120\\nPort Joshuabury...</td>\n",
       "      <td>nlghpa</td>\n",
       "      <td>45.0</td>\n",
       "      <td>fulfilled</td>\n",
       "      <td>898 Henry Ports\\nNew Keithview, CA 95893-2497</td>\n",
       "      <td>y3xp697jx</td>\n",
       "      <td>True</td>\n",
       "      <td>bitcoin</td>\n",
       "      <td>VISA 16 digit</td>\n",
       "      <td>Solace Banks</td>\n",
       "      <td>5mi94sfw</td>\n",
       "      <td>nlghpa</td>\n",
       "      <td>41ug157xz</td>\n",
       "      <td>45.0</td>\n",
       "      <td>False</td>\n",
       "    </tr>\n",
       "    <tr>\n",
       "      <th>9</th>\n",
       "      <td>False</td>\n",
       "      <td>andersonwilliam@yahoo.com</td>\n",
       "      <td>024.420.0375</td>\n",
       "      <td>4m7h5ipl1shyavt6vv2r</td>\n",
       "      <td>67b7:3db8:67e0:3bea:b9d0:90c1:2b60:b9f0</td>\n",
       "      <td>8478 Sean Ridges Apt. 441\\nDavisberg, PR 72250</td>\n",
       "      <td>yk34y2</td>\n",
       "      <td>33.0</td>\n",
       "      <td>failed</td>\n",
       "      <td>8478 Sean Ridges Apt. 441\\nDavisberg, PR 72250</td>\n",
       "      <td>8pneoi03z</td>\n",
       "      <td>False</td>\n",
       "      <td>card</td>\n",
       "      <td>JCB 16 digit</td>\n",
       "      <td>Bastion Banks</td>\n",
       "      <td>q3lyvbza</td>\n",
       "      <td>yk34y2</td>\n",
       "      <td>8pneoi03z</td>\n",
       "      <td>33.0</td>\n",
       "      <td>False</td>\n",
       "    </tr>\n",
       "    <tr>\n",
       "      <th>14</th>\n",
       "      <td>False</td>\n",
       "      <td>rubenjuarez@yahoo.com</td>\n",
       "      <td>670.664.8168x94985</td>\n",
       "      <td>slovx60t0i558may4ks0</td>\n",
       "      <td>95de:8565:5a66:792c:26e0:6cfb:7d87:11af</td>\n",
       "      <td>7769 Elizabeth Bridge Apt. 343\\nNortonstad, FM...</td>\n",
       "      <td>fbz9ep</td>\n",
       "      <td>34.0</td>\n",
       "      <td>fulfilled</td>\n",
       "      <td>7769 Elizabeth Bridge Apt. 343\\nNortonstad, FM...</td>\n",
       "      <td>pdxjdwui4</td>\n",
       "      <td>False</td>\n",
       "      <td>card</td>\n",
       "      <td>Voyager</td>\n",
       "      <td>Grand Credit Corporation</td>\n",
       "      <td>vx4cjc27</td>\n",
       "      <td>fbz9ep</td>\n",
       "      <td>pdxjdwui4</td>\n",
       "      <td>34.0</td>\n",
       "      <td>False</td>\n",
       "    </tr>\n",
       "    <tr>\n",
       "      <th>17</th>\n",
       "      <td>True</td>\n",
       "      <td>uchen@malone.com</td>\n",
       "      <td>1-981-877-0870</td>\n",
       "      <td>j0pd24k5h8dl2fqu0cz4</td>\n",
       "      <td>196.89.235.192</td>\n",
       "      <td>148 Russell Lodge Apt. 445\\nPort Jenniferside,...</td>\n",
       "      <td>56h7iw</td>\n",
       "      <td>71.0</td>\n",
       "      <td>fulfilled</td>\n",
       "      <td>148 Russell Lodge Apt. 445\\nPort Jenniferside,...</td>\n",
       "      <td>w1i1zq3rg</td>\n",
       "      <td>False</td>\n",
       "      <td>apple pay</td>\n",
       "      <td>American Express</td>\n",
       "      <td>Grand Credit Corporation</td>\n",
       "      <td>q8j3dgni</td>\n",
       "      <td>56h7iw</td>\n",
       "      <td>olr4zf09x</td>\n",
       "      <td>71.0</td>\n",
       "      <td>False</td>\n",
       "    </tr>\n",
       "  </tbody>\n",
       "</table>\n",
       "</div>"
      ],
      "text/plain": [
       "   fraudulent    customer__customerEmail customer__customerPhone  \\\n",
       "0       False     josephhoward@yahoo.com            400-108-5415   \n",
       "2        True     evansjeffery@yahoo.com          1-788-091-7546   \n",
       "9       False  andersonwilliam@yahoo.com            024.420.0375   \n",
       "14      False      rubenjuarez@yahoo.com      670.664.8168x94985   \n",
       "17       True           uchen@malone.com          1-981-877-0870   \n",
       "\n",
       "   customer__customerDevice              customer__customerIPAddress  \\\n",
       "0      yyeiaxpltf82440jnb3v                             8.129.104.40   \n",
       "2      r0jpm7xaeqqa3kr6mzum                          219.173.211.202   \n",
       "9      4m7h5ipl1shyavt6vv2r  67b7:3db8:67e0:3bea:b9d0:90c1:2b60:b9f0   \n",
       "14     slovx60t0i558may4ks0  95de:8565:5a66:792c:26e0:6cfb:7d87:11af   \n",
       "17     j0pd24k5h8dl2fqu0cz4                           196.89.235.192   \n",
       "\n",
       "                     customer__customerBillingAddress orders__orderId  \\\n",
       "0             5493 Jones Islands\\nBrownside, CA 51896          vjbdvd   \n",
       "2   356 Elizabeth Inlet Suite 120\\nPort Joshuabury...          nlghpa   \n",
       "9      8478 Sean Ridges Apt. 441\\nDavisberg, PR 72250          yk34y2   \n",
       "14  7769 Elizabeth Bridge Apt. 343\\nNortonstad, FM...          fbz9ep   \n",
       "17  148 Russell Lodge Apt. 445\\nPort Jenniferside,...          56h7iw   \n",
       "\n",
       "    orders__orderAmount orders__orderState  \\\n",
       "0                  18.0            pending   \n",
       "2                  45.0          fulfilled   \n",
       "9                  33.0             failed   \n",
       "14                 34.0          fulfilled   \n",
       "17                 71.0          fulfilled   \n",
       "\n",
       "                         orders__orderShippingAddress  \\\n",
       "0             5493 Jones Islands\\nBrownside, CA 51896   \n",
       "2       898 Henry Ports\\nNew Keithview, CA 95893-2497   \n",
       "9      8478 Sean Ridges Apt. 441\\nDavisberg, PR 72250   \n",
       "14  7769 Elizabeth Bridge Apt. 343\\nNortonstad, FM...   \n",
       "17  148 Russell Lodge Apt. 445\\nPort Jenniferside,...   \n",
       "\n",
       "   paymentMethods__paymentMethodId  \\\n",
       "0                        wt07xm68b   \n",
       "2                        y3xp697jx   \n",
       "9                        8pneoi03z   \n",
       "14                       pdxjdwui4   \n",
       "17                       w1i1zq3rg   \n",
       "\n",
       "   paymentMethods__paymentMethodRegistrationFailure  \\\n",
       "0                                              True   \n",
       "2                                              True   \n",
       "9                                             False   \n",
       "14                                            False   \n",
       "17                                            False   \n",
       "\n",
       "   paymentMethods__paymentMethodType paymentMethods__paymentMethodProvider  \\\n",
       "0                               card                          JCB 16 digit   \n",
       "2                            bitcoin                         VISA 16 digit   \n",
       "9                               card                          JCB 16 digit   \n",
       "14                              card                               Voyager   \n",
       "17                         apple pay                      American Express   \n",
       "\n",
       "   paymentMethods__paymentMethodIssuer transactions__transactionId  \\\n",
       "0                 Citizens First Banks                    a9lcj51r   \n",
       "2                         Solace Banks                    5mi94sfw   \n",
       "9                        Bastion Banks                    q3lyvbza   \n",
       "14            Grand Credit Corporation                    vx4cjc27   \n",
       "17            Grand Credit Corporation                    q8j3dgni   \n",
       "\n",
       "   transactions__orderId transactions__paymentMethodId  \\\n",
       "0                 vjbdvd                     wt07xm68b   \n",
       "2                 nlghpa                     41ug157xz   \n",
       "9                 yk34y2                     8pneoi03z   \n",
       "14                fbz9ep                     pdxjdwui4   \n",
       "17                56h7iw                     olr4zf09x   \n",
       "\n",
       "    transactions__transactionAmount transactions__transactionFailed  \n",
       "0                              18.0                           False  \n",
       "2                              45.0                           False  \n",
       "9                              33.0                           False  \n",
       "14                             34.0                           False  \n",
       "17                             71.0                           False  "
      ]
     },
     "execution_count": 28,
     "metadata": {},
     "output_type": "execute_result"
    }
   ],
   "source": [
    "df.head()"
   ]
  },
  {
   "cell_type": "markdown",
   "metadata": {},
   "source": [
    "# significant"
   ]
  },
  {
   "cell_type": "code",
   "execution_count": null,
   "metadata": {},
   "outputs": [],
   "source": [
    "#'fraudulent','orders__orderAmount', 'orders__orderState','paymentMethods__paymentMethodRegistrationFailure',\n",
    "#'paymentMethods__paymentMethodType','paymentMethods__paymentMethodProvider','paymentMethods__paymentMethodIssuer',\n",
    "#'transactions__transactionAmount', 'transactions__transactionFailed'\n",
    "\n",
    "# aboove factors are significant as they are related to fraudulent"
   ]
  },
  {
   "cell_type": "markdown",
   "metadata": {},
   "source": [
    "#  insignificant "
   ]
  },
  {
   "cell_type": "code",
   "execution_count": 31,
   "metadata": {},
   "outputs": [],
   "source": [
    "#customer__customerEmail,customer__customerPhone,customer__customerDevice,customer__customerIPAddress,\n",
    "#customer__customerBillingAddress,orders__orderId,'orders__orderShippingAddress', 'paymentMethods__paymentMethodId',\n",
    "#'transactions__transactionId','transactions__orderId', 'transactions__paymentMethodId',\n",
    "\n",
    "#above factors are insignificant as they are  emailid, refrence id's and adresses. "
   ]
  },
  {
   "cell_type": "code",
   "execution_count": 32,
   "metadata": {},
   "outputs": [],
   "source": [
    "newdf= df[['fraudulent','orders__orderAmount', 'orders__orderState','paymentMethods__paymentMethodRegistrationFailure',\n",
    "'paymentMethods__paymentMethodType','paymentMethods__paymentMethodProvider','paymentMethods__paymentMethodIssuer',\n",
    "'transactions__transactionAmount', 'transactions__transactionFailed']]"
   ]
  },
  {
   "cell_type": "code",
   "execution_count": 33,
   "metadata": {},
   "outputs": [
    {
     "data": {
      "text/html": [
       "<div>\n",
       "<style scoped>\n",
       "    .dataframe tbody tr th:only-of-type {\n",
       "        vertical-align: middle;\n",
       "    }\n",
       "\n",
       "    .dataframe tbody tr th {\n",
       "        vertical-align: top;\n",
       "    }\n",
       "\n",
       "    .dataframe thead th {\n",
       "        text-align: right;\n",
       "    }\n",
       "</style>\n",
       "<table border=\"1\" class=\"dataframe\">\n",
       "  <thead>\n",
       "    <tr style=\"text-align: right;\">\n",
       "      <th></th>\n",
       "      <th>fraudulent</th>\n",
       "      <th>orders__orderAmount</th>\n",
       "      <th>orders__orderState</th>\n",
       "      <th>paymentMethods__paymentMethodRegistrationFailure</th>\n",
       "      <th>paymentMethods__paymentMethodType</th>\n",
       "      <th>paymentMethods__paymentMethodProvider</th>\n",
       "      <th>paymentMethods__paymentMethodIssuer</th>\n",
       "      <th>transactions__transactionAmount</th>\n",
       "      <th>transactions__transactionFailed</th>\n",
       "    </tr>\n",
       "  </thead>\n",
       "  <tbody>\n",
       "    <tr>\n",
       "      <th>0</th>\n",
       "      <td>False</td>\n",
       "      <td>18.0</td>\n",
       "      <td>pending</td>\n",
       "      <td>True</td>\n",
       "      <td>card</td>\n",
       "      <td>JCB 16 digit</td>\n",
       "      <td>Citizens First Banks</td>\n",
       "      <td>18.0</td>\n",
       "      <td>False</td>\n",
       "    </tr>\n",
       "    <tr>\n",
       "      <th>2</th>\n",
       "      <td>True</td>\n",
       "      <td>45.0</td>\n",
       "      <td>fulfilled</td>\n",
       "      <td>True</td>\n",
       "      <td>bitcoin</td>\n",
       "      <td>VISA 16 digit</td>\n",
       "      <td>Solace Banks</td>\n",
       "      <td>45.0</td>\n",
       "      <td>False</td>\n",
       "    </tr>\n",
       "    <tr>\n",
       "      <th>9</th>\n",
       "      <td>False</td>\n",
       "      <td>33.0</td>\n",
       "      <td>failed</td>\n",
       "      <td>False</td>\n",
       "      <td>card</td>\n",
       "      <td>JCB 16 digit</td>\n",
       "      <td>Bastion Banks</td>\n",
       "      <td>33.0</td>\n",
       "      <td>False</td>\n",
       "    </tr>\n",
       "    <tr>\n",
       "      <th>14</th>\n",
       "      <td>False</td>\n",
       "      <td>34.0</td>\n",
       "      <td>fulfilled</td>\n",
       "      <td>False</td>\n",
       "      <td>card</td>\n",
       "      <td>Voyager</td>\n",
       "      <td>Grand Credit Corporation</td>\n",
       "      <td>34.0</td>\n",
       "      <td>False</td>\n",
       "    </tr>\n",
       "    <tr>\n",
       "      <th>17</th>\n",
       "      <td>True</td>\n",
       "      <td>71.0</td>\n",
       "      <td>fulfilled</td>\n",
       "      <td>False</td>\n",
       "      <td>apple pay</td>\n",
       "      <td>American Express</td>\n",
       "      <td>Grand Credit Corporation</td>\n",
       "      <td>71.0</td>\n",
       "      <td>False</td>\n",
       "    </tr>\n",
       "  </tbody>\n",
       "</table>\n",
       "</div>"
      ],
      "text/plain": [
       "   fraudulent  orders__orderAmount orders__orderState  \\\n",
       "0       False                 18.0            pending   \n",
       "2        True                 45.0          fulfilled   \n",
       "9       False                 33.0             failed   \n",
       "14      False                 34.0          fulfilled   \n",
       "17       True                 71.0          fulfilled   \n",
       "\n",
       "   paymentMethods__paymentMethodRegistrationFailure  \\\n",
       "0                                              True   \n",
       "2                                              True   \n",
       "9                                             False   \n",
       "14                                            False   \n",
       "17                                            False   \n",
       "\n",
       "   paymentMethods__paymentMethodType paymentMethods__paymentMethodProvider  \\\n",
       "0                               card                          JCB 16 digit   \n",
       "2                            bitcoin                         VISA 16 digit   \n",
       "9                               card                          JCB 16 digit   \n",
       "14                              card                               Voyager   \n",
       "17                         apple pay                      American Express   \n",
       "\n",
       "   paymentMethods__paymentMethodIssuer  transactions__transactionAmount  \\\n",
       "0                 Citizens First Banks                             18.0   \n",
       "2                         Solace Banks                             45.0   \n",
       "9                        Bastion Banks                             33.0   \n",
       "14            Grand Credit Corporation                             34.0   \n",
       "17            Grand Credit Corporation                             71.0   \n",
       "\n",
       "   transactions__transactionFailed  \n",
       "0                            False  \n",
       "2                            False  \n",
       "9                            False  \n",
       "14                           False  \n",
       "17                           False  "
      ]
     },
     "execution_count": 33,
     "metadata": {},
     "output_type": "execute_result"
    }
   ],
   "source": [
    "newdf.head()"
   ]
  },
  {
   "cell_type": "markdown",
   "metadata": {},
   "source": [
    "# categorical variable visualization"
   ]
  },
  {
   "cell_type": "code",
   "execution_count": 62,
   "metadata": {},
   "outputs": [
    {
     "name": "stderr",
     "output_type": "stream",
     "text": [
      "D:\\javeed\\DS documents\\anaconda install\\lib\\site-packages\\matplotlib\\figure.py:445: UserWarning: Matplotlib is currently using module://ipykernel.pylab.backend_inline, which is a non-GUI backend, so cannot show the figure.\n",
      "  % get_backend())\n"
     ]
    },
    {
     "data": {
      "image/png": "[encoded data removed]",
      "text/plain": [
       "<Figure size 720x288 with 2 Axes>"
      ]
     },
     "metadata": {
      "needs_background": "light"
     },
     "output_type": "display_data"
    }
   ],
   "source": [
    "fig, ax =plt.subplots(1,2, figsize = (10,4))\n",
    "sns.countplot(newdf['fraudulent'], ax=ax[0])\n",
    "sns.countplot(newdf['orders__orderState'], ax=ax[1])\n",
    "fig.show()\n",
    "#most of the fraudlent has false values\n",
    "#most of the orderstate are fulfilled"
   ]
  },
  {
   "cell_type": "code",
   "execution_count": 46,
   "metadata": {},
   "outputs": [
    {
     "name": "stderr",
     "output_type": "stream",
     "text": [
      "D:\\javeed\\DS documents\\anaconda install\\lib\\site-packages\\matplotlib\\figure.py:445: UserWarning: Matplotlib is currently using module://ipykernel.pylab.backend_inline, which is a non-GUI backend, so cannot show the figure.\n",
      "  % get_backend())\n"
     ]
    },
    {
     "data": {
      "image/png": "[encoded data removed]",
      "text/plain": [
       "<Figure size 720x288 with 2 Axes>"
      ]
     },
     "metadata": {
      "needs_background": "light"
     },
     "output_type": "display_data"
    }
   ],
   "source": [
    "fig, ax =plt.subplots(1,2, figsize = (10,4))\n",
    "sns.countplot(newdf['paymentMethods__paymentMethodRegistrationFailure'], ax=ax[0])\n",
    "sns.countplot(newdf['paymentMethods__paymentMethodType'], ax=ax[1])\n",
    "fig.show()\n",
    "#payment method mostly done correctly\n",
    "#payment done by card"
   ]
  },
  {
   "cell_type": "code",
   "execution_count": 49,
   "metadata": {},
   "outputs": [
    {
     "data": {
      "image/png": "[encoded data removed]",
      "text/plain": [
       "<Figure size 864x432 with 1 Axes>"
      ]
     },
     "metadata": {
      "needs_background": "light"
     },
     "output_type": "display_data"
    }
   ],
   "source": [
    "ax = newdf.paymentMethods__paymentMethodProvider.value_counts().sort_index().plot.bar(\n",
    "    figsize=(12, 6),\n",
    "    color='mediumvioletred',\n",
    "    fontsize=16\n",
    ")\n",
    "ax.set_title(\"paymentMethods__paymentMethodProvider\", fontsize=20)\n",
    "sns.despine(bottom=True, left=True)\n",
    "\n",
    "# jcb 16 digit and visa 16 has done more payments"
   ]
  },
  {
   "cell_type": "code",
   "execution_count": 51,
   "metadata": {},
   "outputs": [
    {
     "data": {
      "image/png": "[encoded data removed]",
      "text/plain": [
       "<Figure size 864x432 with 1 Axes>"
      ]
     },
     "metadata": {
      "needs_background": "light"
     },
     "output_type": "display_data"
    }
   ],
   "source": [
    "ax = newdf.paymentMethods__paymentMethodIssuer.value_counts().sort_index().plot.bar(\n",
    "    figsize=(12, 6),\n",
    "    fontsize=16\n",
    ")\n",
    "ax.set_title(\"paymentMethods__paymentMethodIssuer\", fontsize=20)\n",
    "sns.despine(bottom=True, left=True)\n",
    "# the highest payments issuse is \"her majestry trust\""
   ]
  },
  {
   "cell_type": "code",
   "execution_count": 54,
   "metadata": {},
   "outputs": [
    {
     "data": {
      "text/plain": [
       "<matplotlib.axes._subplots.AxesSubplot at 0x28945ab6a90>"
      ]
     },
     "execution_count": 54,
     "metadata": {},
     "output_type": "execute_result"
    },
    {
     "data": {
      "image/png": "[encoded data removed]",
      "text/plain": [
       "<Figure size 432x288 with 1 Axes>"
      ]
     },
     "metadata": {
      "needs_background": "light"
     },
     "output_type": "display_data"
    }
   ],
   "source": [
    "sns.countplot(newdf.transactions__transactionFailed)\n",
    "#mostly transaction done successfully "
   ]
  },
  {
   "cell_type": "markdown",
   "metadata": {},
   "source": [
    "# Numeric variable visualization"
   ]
  },
  {
   "cell_type": "code",
   "execution_count": 55,
   "metadata": {},
   "outputs": [
    {
     "data": {
      "text/plain": [
       "Text(0.5, 0, 'orders__orderAmount')"
      ]
     },
     "execution_count": 55,
     "metadata": {},
     "output_type": "execute_result"
    },
    {
     "data": {
      "image/png": "[encoded data removed]",
      "text/plain": [
       "<Figure size 432x288 with 1 Axes>"
      ]
     },
     "metadata": {
      "needs_background": "light"
     },
     "output_type": "display_data"
    }
   ],
   "source": [
    "plt.hist(newdf.orders__orderAmount);plt.xlabel('orders__orderAmount')#data is not normal"
   ]
  },
  {
   "cell_type": "code",
   "execution_count": 56,
   "metadata": {},
   "outputs": [
    {
     "data": {
      "text/plain": [
       "Text(0.5, 0, 'transactions__transactionAmount')"
      ]
     },
     "execution_count": 56,
     "metadata": {},
     "output_type": "execute_result"
    },
    {
     "data": {
      "image/png": "[encoded data removed]",
      "text/plain": [
       "<Figure size 432x288 with 1 Axes>"
      ]
     },
     "metadata": {
      "needs_background": "light"
     },
     "output_type": "display_data"
    }
   ],
   "source": [
    "plt.hist(newdf.transactions__transactionAmount);plt.xlabel('transactions__transactionAmount')#data is not normal"
   ]
  },
  {
   "cell_type": "code",
   "execution_count": 57,
   "metadata": {},
   "outputs": [],
   "source": [
    "#also  orders__orderAmount and transactions__transactionAmount are both same factor\n",
    "#so keeping only one i.e.  transactions__transactionAmount and droping orders__orderAmount\n",
    "newdf= newdf.drop(['orders__orderAmount'], axis = 1)"
   ]
  },
  {
   "cell_type": "code",
   "execution_count": 61,
   "metadata": {},
   "outputs": [
    {
     "name": "stderr",
     "output_type": "stream",
     "text": [
      "D:\\javeed\\DS documents\\anaconda install\\lib\\site-packages\\scipy\\stats\\stats.py:1713: FutureWarning: Using a non-tuple sequence for multidimensional indexing is deprecated; use `arr[tuple(seq)]` instead of `arr[seq]`. In the future this will be interpreted as an array index, `arr[np.array(seq)]`, which will result either in an error or a different result.\n",
      "  return np.add.reduce(sorted[indexer] * weights, axis=axis) / sumval\n"
     ]
    },
    {
     "data": {
      "text/plain": [
       "<matplotlib.axes._subplots.AxesSubplot at 0x28945424cf8>"
      ]
     },
     "execution_count": 61,
     "metadata": {},
     "output_type": "execute_result"
    },
    {
     "data": {
      "image/png": "[encoded data removed]",
      "text/plain": [
       "<Figure size 432x288 with 1 Axes>"
      ]
     },
     "metadata": {
      "needs_background": "light"
     },
     "output_type": "display_data"
    }
   ],
   "source": [
    "sns.violinplot(newdf.transactions__transactionAmount)\n",
    "#has many outliers"
   ]
  },
  {
   "cell_type": "code",
   "execution_count": 69,
   "metadata": {},
   "outputs": [
    {
     "data": {
      "image/png": "[encoded data removed]",
      "text/plain": [
       "<Figure size 782.125x360 with 2 Axes>"
      ]
     },
     "metadata": {
      "needs_background": "light"
     },
     "output_type": "display_data"
    }
   ],
   "source": [
    "sns.catplot(x=\"orders__orderState\", y=\"transactions__transactionAmount\", hue=\"fraudulent\",\n",
    "            col=\"paymentMethods__paymentMethodRegistrationFailure\", \n",
    "            kind=\"swarm\", data=newdf);\n",
    "#payment fullfilled  has more fraudent than others"
   ]
  },
  {
   "cell_type": "code",
   "execution_count": 68,
   "metadata": {},
   "outputs": [
    {
     "data": {
      "image/png": "[encoded data removed]",
      "text/plain": [
       "<Figure size 422.125x360 with 1 Axes>"
      ]
     },
     "metadata": {
      "needs_background": "light"
     },
     "output_type": "display_data"
    }
   ],
   "source": [
    "sns.catplot(x=\"paymentMethods__paymentMethodType\", y=\"transactions__transactionAmount\", hue=\"fraudulent\",kind=\"swarm\", data=newdf);\n",
    "#% of biction and apple payod tyoe has more fraudent"
   ]
  },
  {
   "cell_type": "code",
   "execution_count": 66,
   "metadata": {},
   "outputs": [
    {
     "data": {
      "image/png": "[encoded data removed]",
      "text/plain": [
       "<Figure size 242.125x360 with 1 Axes>"
      ]
     },
     "metadata": {
      "needs_background": "light"
     },
     "output_type": "display_data"
    }
   ],
   "source": [
    "sns.catplot(x=\"transactions__transactionFailed\", y=\"transactions__transactionAmount\", hue=\"fraudulent\",\n",
    "            aspect=.5,\n",
    "            kind=\"swarm\", data=newdf);\n",
    "#transaction failed has more perscentage in fraudent than  transaction sucess"
   ]
  },
  {
   "cell_type": "code",
   "execution_count": 73,
   "metadata": {},
   "outputs": [
    {
     "data": {
      "text/html": [
       "<div>\n",
       "<style scoped>\n",
       "    .dataframe tbody tr th:only-of-type {\n",
       "        vertical-align: middle;\n",
       "    }\n",
       "\n",
       "    .dataframe tbody tr th {\n",
       "        vertical-align: top;\n",
       "    }\n",
       "\n",
       "    .dataframe thead th {\n",
       "        text-align: right;\n",
       "    }\n",
       "</style>\n",
       "<table border=\"1\" class=\"dataframe\">\n",
       "  <thead>\n",
       "    <tr style=\"text-align: right;\">\n",
       "      <th></th>\n",
       "      <th>transactions__transactionAmount</th>\n",
       "      <th>fraudulent_False</th>\n",
       "      <th>fraudulent_True</th>\n",
       "      <th>orders__orderState_failed</th>\n",
       "      <th>orders__orderState_fulfilled</th>\n",
       "      <th>orders__orderState_pending</th>\n",
       "      <th>paymentMethods__paymentMethodRegistrationFailure_False</th>\n",
       "      <th>paymentMethods__paymentMethodRegistrationFailure_True</th>\n",
       "      <th>paymentMethods__paymentMethodType_apple pay</th>\n",
       "      <th>paymentMethods__paymentMethodType_bitcoin</th>\n",
       "      <th>...</th>\n",
       "      <th>paymentMethods__paymentMethodIssuer_Rose Bancshares</th>\n",
       "      <th>paymentMethods__paymentMethodIssuer_Solace Banks</th>\n",
       "      <th>paymentMethods__paymentMethodIssuer_Vertex Bancorp</th>\n",
       "      <th>paymentMethods__paymentMethodIssuer_a</th>\n",
       "      <th>paymentMethods__paymentMethodIssuer_c</th>\n",
       "      <th>paymentMethods__paymentMethodIssuer_e</th>\n",
       "      <th>paymentMethods__paymentMethodIssuer_o</th>\n",
       "      <th>paymentMethods__paymentMethodIssuer_x</th>\n",
       "      <th>transactions__transactionFailed_False</th>\n",
       "      <th>transactions__transactionFailed_True</th>\n",
       "    </tr>\n",
       "  </thead>\n",
       "  <tbody>\n",
       "    <tr>\n",
       "      <th>0</th>\n",
       "      <td>18.0</td>\n",
       "      <td>1</td>\n",
       "      <td>0</td>\n",
       "      <td>0</td>\n",
       "      <td>0</td>\n",
       "      <td>1</td>\n",
       "      <td>0</td>\n",
       "      <td>1</td>\n",
       "      <td>0</td>\n",
       "      <td>0</td>\n",
       "      <td>...</td>\n",
       "      <td>0</td>\n",
       "      <td>0</td>\n",
       "      <td>0</td>\n",
       "      <td>0</td>\n",
       "      <td>0</td>\n",
       "      <td>0</td>\n",
       "      <td>0</td>\n",
       "      <td>0</td>\n",
       "      <td>1</td>\n",
       "      <td>0</td>\n",
       "    </tr>\n",
       "    <tr>\n",
       "      <th>2</th>\n",
       "      <td>45.0</td>\n",
       "      <td>0</td>\n",
       "      <td>1</td>\n",
       "      <td>0</td>\n",
       "      <td>1</td>\n",
       "      <td>0</td>\n",
       "      <td>0</td>\n",
       "      <td>1</td>\n",
       "      <td>0</td>\n",
       "      <td>1</td>\n",
       "      <td>...</td>\n",
       "      <td>0</td>\n",
       "      <td>1</td>\n",
       "      <td>0</td>\n",
       "      <td>0</td>\n",
       "      <td>0</td>\n",
       "      <td>0</td>\n",
       "      <td>0</td>\n",
       "      <td>0</td>\n",
       "      <td>1</td>\n",
       "      <td>0</td>\n",
       "    </tr>\n",
       "    <tr>\n",
       "      <th>9</th>\n",
       "      <td>33.0</td>\n",
       "      <td>1</td>\n",
       "      <td>0</td>\n",
       "      <td>1</td>\n",
       "      <td>0</td>\n",
       "      <td>0</td>\n",
       "      <td>1</td>\n",
       "      <td>0</td>\n",
       "      <td>0</td>\n",
       "      <td>0</td>\n",
       "      <td>...</td>\n",
       "      <td>0</td>\n",
       "      <td>0</td>\n",
       "      <td>0</td>\n",
       "      <td>0</td>\n",
       "      <td>0</td>\n",
       "      <td>0</td>\n",
       "      <td>0</td>\n",
       "      <td>0</td>\n",
       "      <td>1</td>\n",
       "      <td>0</td>\n",
       "    </tr>\n",
       "    <tr>\n",
       "      <th>14</th>\n",
       "      <td>34.0</td>\n",
       "      <td>1</td>\n",
       "      <td>0</td>\n",
       "      <td>0</td>\n",
       "      <td>1</td>\n",
       "      <td>0</td>\n",
       "      <td>1</td>\n",
       "      <td>0</td>\n",
       "      <td>0</td>\n",
       "      <td>0</td>\n",
       "      <td>...</td>\n",
       "      <td>0</td>\n",
       "      <td>0</td>\n",
       "      <td>0</td>\n",
       "      <td>0</td>\n",
       "      <td>0</td>\n",
       "      <td>0</td>\n",
       "      <td>0</td>\n",
       "      <td>0</td>\n",
       "      <td>1</td>\n",
       "      <td>0</td>\n",
       "    </tr>\n",
       "    <tr>\n",
       "      <th>17</th>\n",
       "      <td>71.0</td>\n",
       "      <td>0</td>\n",
       "      <td>1</td>\n",
       "      <td>0</td>\n",
       "      <td>1</td>\n",
       "      <td>0</td>\n",
       "      <td>1</td>\n",
       "      <td>0</td>\n",
       "      <td>1</td>\n",
       "      <td>0</td>\n",
       "      <td>...</td>\n",
       "      <td>0</td>\n",
       "      <td>0</td>\n",
       "      <td>0</td>\n",
       "      <td>0</td>\n",
       "      <td>0</td>\n",
       "      <td>0</td>\n",
       "      <td>0</td>\n",
       "      <td>0</td>\n",
       "      <td>1</td>\n",
       "      <td>0</td>\n",
       "    </tr>\n",
       "  </tbody>\n",
       "</table>\n",
       "<p>5 rows × 40 columns</p>\n",
       "</div>"
      ],
      "text/plain": [
       "    transactions__transactionAmount  fraudulent_False  fraudulent_True  \\\n",
       "0                              18.0                 1                0   \n",
       "2                              45.0                 0                1   \n",
       "9                              33.0                 1                0   \n",
       "14                             34.0                 1                0   \n",
       "17                             71.0                 0                1   \n",
       "\n",
       "    orders__orderState_failed  orders__orderState_fulfilled  \\\n",
       "0                           0                             0   \n",
       "2                           0                             1   \n",
       "9                           1                             0   \n",
       "14                          0                             1   \n",
       "17                          0                             1   \n",
       "\n",
       "    orders__orderState_pending  \\\n",
       "0                            1   \n",
       "2                            0   \n",
       "9                            0   \n",
       "14                           0   \n",
       "17                           0   \n",
       "\n",
       "    paymentMethods__paymentMethodRegistrationFailure_False  \\\n",
       "0                                                   0        \n",
       "2                                                   0        \n",
       "9                                                   1        \n",
       "14                                                  1        \n",
       "17                                                  1        \n",
       "\n",
       "    paymentMethods__paymentMethodRegistrationFailure_True  \\\n",
       "0                                                   1       \n",
       "2                                                   1       \n",
       "9                                                   0       \n",
       "14                                                  0       \n",
       "17                                                  0       \n",
       "\n",
       "    paymentMethods__paymentMethodType_apple pay  \\\n",
       "0                                             0   \n",
       "2                                             0   \n",
       "9                                             0   \n",
       "14                                            0   \n",
       "17                                            1   \n",
       "\n",
       "    paymentMethods__paymentMethodType_bitcoin  \\\n",
       "0                                           0   \n",
       "2                                           1   \n",
       "9                                           0   \n",
       "14                                          0   \n",
       "17                                          0   \n",
       "\n",
       "                    ...                   \\\n",
       "0                   ...                    \n",
       "2                   ...                    \n",
       "9                   ...                    \n",
       "14                  ...                    \n",
       "17                  ...                    \n",
       "\n",
       "    paymentMethods__paymentMethodIssuer_Rose Bancshares  \\\n",
       "0                                                   0     \n",
       "2                                                   0     \n",
       "9                                                   0     \n",
       "14                                                  0     \n",
       "17                                                  0     \n",
       "\n",
       "    paymentMethods__paymentMethodIssuer_Solace Banks  \\\n",
       "0                                                  0   \n",
       "2                                                  1   \n",
       "9                                                  0   \n",
       "14                                                 0   \n",
       "17                                                 0   \n",
       "\n",
       "    paymentMethods__paymentMethodIssuer_Vertex Bancorp  \\\n",
       "0                                                   0    \n",
       "2                                                   0    \n",
       "9                                                   0    \n",
       "14                                                  0    \n",
       "17                                                  0    \n",
       "\n",
       "    paymentMethods__paymentMethodIssuer_a  \\\n",
       "0                                       0   \n",
       "2                                       0   \n",
       "9                                       0   \n",
       "14                                      0   \n",
       "17                                      0   \n",
       "\n",
       "    paymentMethods__paymentMethodIssuer_c  \\\n",
       "0                                       0   \n",
       "2                                       0   \n",
       "9                                       0   \n",
       "14                                      0   \n",
       "17                                      0   \n",
       "\n",
       "    paymentMethods__paymentMethodIssuer_e  \\\n",
       "0                                       0   \n",
       "2                                       0   \n",
       "9                                       0   \n",
       "14                                      0   \n",
       "17                                      0   \n",
       "\n",
       "    paymentMethods__paymentMethodIssuer_o  \\\n",
       "0                                       0   \n",
       "2                                       0   \n",
       "9                                       0   \n",
       "14                                      0   \n",
       "17                                      0   \n",
       "\n",
       "    paymentMethods__paymentMethodIssuer_x  \\\n",
       "0                                       0   \n",
       "2                                       0   \n",
       "9                                       0   \n",
       "14                                      0   \n",
       "17                                      0   \n",
       "\n",
       "    transactions__transactionFailed_False  \\\n",
       "0                                       1   \n",
       "2                                       1   \n",
       "9                                       1   \n",
       "14                                      1   \n",
       "17                                      1   \n",
       "\n",
       "    transactions__transactionFailed_True  \n",
       "0                                      0  \n",
       "2                                      0  \n",
       "9                                      0  \n",
       "14                                     0  \n",
       "17                                     0  \n",
       "\n",
       "[5 rows x 40 columns]"
      ]
     },
     "execution_count": 73,
     "metadata": {},
     "output_type": "execute_result"
    }
   ],
   "source": [
    "data9= pd.get_dummies(newdf) #one hot code encoding\n",
    "data9.head()"
   ]
  },
  {
   "cell_type": "code",
   "execution_count": 75,
   "metadata": {},
   "outputs": [],
   "source": [
    "X= data9.drop(['fraudulent_False'], axis = 1)\n",
    "Y = data9[['fraudulent_False']]"
   ]
  },
  {
   "cell_type": "markdown",
   "metadata": {},
   "source": [
    "# stratify Sampling"
   ]
  },
  {
   "cell_type": "code",
   "execution_count": 77,
   "metadata": {},
   "outputs": [],
   "source": [
    "#as we don't have equal number of true and false in fraudlent so i am doing stratified sampling \n",
    "import pandas as pd\n",
    "from sklearn.linear_model import LogisticRegression\n",
    "from sklearn.model_selection import train_test_split # train and test \n",
    "from sklearn import metrics\n",
    "from sklearn import preprocessing\n",
    "from sklearn.metrics import classification_report\n",
    "train_x,test_x,train_y,test_y  = train_test_split(X,Y, test_size = 0.33, stratify=Y)"
   ]
  },
  {
   "cell_type": "markdown",
   "metadata": {},
   "source": [
    "# RandomForest"
   ]
  },
  {
   "cell_type": "code",
   "execution_count": 87,
   "metadata": {},
   "outputs": [
    {
     "name": "stderr",
     "output_type": "stream",
     "text": [
      "D:\\javeed\\DS documents\\anaconda install\\lib\\site-packages\\sklearn\\ensemble\\forest.py:246: FutureWarning: The default value of n_estimators will change from 10 in version 0.20 to 100 in 0.22.\n",
      "  \"10 in version 0.20 to 100 in 0.22.\", FutureWarning)\n",
      "D:\\javeed\\DS documents\\anaconda install\\lib\\site-packages\\ipykernel_launcher.py:2: DataConversionWarning: A column-vector y was passed when a 1d array was expected. Please change the shape of y to (n_samples,), for example using ravel().\n",
      "  \n"
     ]
    }
   ],
   "source": [
    "from sklearn.ensemble import RandomForestClassifier\n",
    "rclf = RandomForestClassifier().fit(train_x,train_y)"
   ]
  },
  {
   "cell_type": "code",
   "execution_count": 89,
   "metadata": {},
   "outputs": [
    {
     "name": "stdout",
     "output_type": "stream",
     "text": [
      "47\n",
      "0.9787234042553191\n",
      "0.9655172413793104\n",
      "[[18  0]\n",
      " [ 1 28]]\n"
     ]
    }
   ],
   "source": [
    "from sklearn.metrics import accuracy_score,recall_score,confusion_matrix\n",
    "y_pred = rclf.predict(test_x)\n",
    "print(len(test_x))\n",
    "print(accuracy_score(test_y,y_pred))\n",
    "print(recall_score(test_y,y_pred))\n",
    "print(confusion_matrix(test_y,y_pred))"
   ]
  },
  {
   "cell_type": "code",
   "execution_count": 90,
   "metadata": {},
   "outputs": [],
   "source": [
    "import numpy as np\n",
    "from scipy.stats import uniform, randint\n",
    "from sklearn.datasets import load_breast_cancer, load_diabetes, load_wine\n",
    "from sklearn.metrics import auc, accuracy_score, confusion_matrix, mean_squared_error\n",
    "from sklearn.model_selection import cross_val_score, GridSearchCV, KFold, RandomizedSearchCV, train_test_split\n",
    "import xgboost as xgb"
   ]
  },
  {
   "cell_type": "markdown",
   "metadata": {},
   "source": [
    "# XGBClassifier"
   ]
  },
  {
   "cell_type": "code",
   "execution_count": 95,
   "metadata": {},
   "outputs": [
    {
     "name": "stdout",
     "output_type": "stream",
     "text": [
      "[0]\tvalidation_0-auc:1\tvalidation_0-error:0\tvalidation_0-error@0.6:0.617021\n",
      "[1]\tvalidation_0-auc:1\tvalidation_0-error:0\tvalidation_0-error@0.6:0.617021\n",
      "[2]\tvalidation_0-auc:1\tvalidation_0-error:0\tvalidation_0-error@0.6:0\n",
      "[3]\tvalidation_0-auc:1\tvalidation_0-error:0\tvalidation_0-error@0.6:0\n",
      "[4]\tvalidation_0-auc:1\tvalidation_0-error:0\tvalidation_0-error@0.6:0\n",
      "[5]\tvalidation_0-auc:1\tvalidation_0-error:0\tvalidation_0-error@0.6:0\n",
      "[6]\tvalidation_0-auc:1\tvalidation_0-error:0\tvalidation_0-error@0.6:0\n",
      "[7]\tvalidation_0-auc:1\tvalidation_0-error:0\tvalidation_0-error@0.6:0\n",
      "[8]\tvalidation_0-auc:1\tvalidation_0-error:0\tvalidation_0-error@0.6:0\n",
      "[9]\tvalidation_0-auc:1\tvalidation_0-error:0\tvalidation_0-error@0.6:0\n",
      "[10]\tvalidation_0-auc:1\tvalidation_0-error:0\tvalidation_0-error@0.6:0\n",
      "[11]\tvalidation_0-auc:1\tvalidation_0-error:0\tvalidation_0-error@0.6:0\n",
      "[12]\tvalidation_0-auc:1\tvalidation_0-error:0\tvalidation_0-error@0.6:0\n",
      "[13]\tvalidation_0-auc:1\tvalidation_0-error:0\tvalidation_0-error@0.6:0\n",
      "[14]\tvalidation_0-auc:1\tvalidation_0-error:0\tvalidation_0-error@0.6:0\n",
      "[15]\tvalidation_0-auc:1\tvalidation_0-error:0\tvalidation_0-error@0.6:0\n",
      "[16]\tvalidation_0-auc:1\tvalidation_0-error:0\tvalidation_0-error@0.6:0\n",
      "[17]\tvalidation_0-auc:1\tvalidation_0-error:0\tvalidation_0-error@0.6:0\n",
      "[18]\tvalidation_0-auc:1\tvalidation_0-error:0\tvalidation_0-error@0.6:0\n",
      "[19]\tvalidation_0-auc:1\tvalidation_0-error:0\tvalidation_0-error@0.6:0\n"
     ]
    },
    {
     "name": "stderr",
     "output_type": "stream",
     "text": [
      "D:\\javeed\\DS documents\\anaconda install\\lib\\site-packages\\sklearn\\preprocessing\\label.py:219: DataConversionWarning: A column-vector y was passed when a 1d array was expected. Please change the shape of y to (n_samples, ), for example using ravel().\n",
      "  y = column_or_1d(y, warn=True)\n",
      "D:\\javeed\\DS documents\\anaconda install\\lib\\site-packages\\sklearn\\preprocessing\\label.py:252: DataConversionWarning: A column-vector y was passed when a 1d array was expected. Please change the shape of y to (n_samples, ), for example using ravel().\n",
      "  y = column_or_1d(y, warn=True)\n",
      "D:\\javeed\\DS documents\\anaconda install\\lib\\site-packages\\sklearn\\preprocessing\\label.py:252: DataConversionWarning: A column-vector y was passed when a 1d array was expected. Please change the shape of y to (n_samples, ), for example using ravel().\n",
      "  y = column_or_1d(y, warn=True)\n"
     ]
    }
   ],
   "source": [
    "xgb_model = xgb.XGBClassifier(objective=\"binary:logistic\", n_estimators=20, random_state=42, eval_metric=[\"auc\", \"error\", \"error@0.6\"])\n",
    "\n",
    "\n",
    "xgb_model.fit(train_x,train_y, eval_set=[(test_x,test_y)])\n",
    "\n",
    "y_pred = xgb_model.predict(test_x)"
   ]
  },
  {
   "cell_type": "code",
   "execution_count": null,
   "metadata": {},
   "outputs": [],
   "source": []
  }
 ],
 "metadata": {
  "kernelspec": {
   "display_name": "Python 3",
   "language": "python",
   "name": "python3"
  },
  "language_info": {
   "codemirror_mode": {
    "name": "ipython",
    "version": 3
   },
   "file_extension": ".py",
   "mimetype": "text/x-python",
   "name": "python",
   "nbconvert_exporter": "python",
   "pygments_lexer": "ipython3",
   "version": "3.7.1"
  }
 },
 "nbformat": 4,
 "nbformat_minor": 2
}
